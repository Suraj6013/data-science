{
 "cells": [
  {
   "cell_type": "code",
   "execution_count": 3,
   "metadata": {},
   "outputs": [
    {
     "name": "stdout",
     "output_type": "stream",
     "text": [
      "                    Id                            SepalLengthCm              \\\n",
      "                  mean median  min  max       std          mean median  min   \n",
      "Species                                                                       \n",
      "Iris-setosa       25.5   25.5    1   50  14.57738         5.006    5.0  4.3   \n",
      "Iris-versicolor   75.5   75.5   51  100  14.57738         5.936    5.9  4.9   \n",
      "Iris-virginica   125.5  125.5  101  150  14.57738         6.588    6.5  4.9   \n",
      "\n",
      "                                ... PetalLengthCm                             \\\n",
      "                 max       std  ...          mean median  min  max       std   \n",
      "Species                         ...                                            \n",
      "Iris-setosa      5.8  0.352490  ...         1.464   1.50  1.0  1.9  0.173511   \n",
      "Iris-versicolor  7.0  0.516171  ...         4.260   4.35  3.0  5.1  0.469911   \n",
      "Iris-virginica   7.9  0.635880  ...         5.552   5.55  4.5  6.9  0.551895   \n",
      "\n",
      "                PetalWidthCm                             \n",
      "                        mean median  min  max       std  \n",
      "Species                                                  \n",
      "Iris-setosa            0.244    0.2  0.1  0.6  0.107210  \n",
      "Iris-versicolor        1.326    1.3  1.0  1.8  0.197753  \n",
      "Iris-virginica         2.026    2.0  1.4  2.5  0.274650  \n",
      "\n",
      "[3 rows x 25 columns]\n"
     ]
    }
   ],
   "source": [
    "import pandas as pd\n",
    "\n",
    "# Load the Iris dataset\n",
    "iris_df = pd.read_csv('iris.csv')\n",
    "\n",
    "# Filter data for the specified species: 'Iris-setosa', 'Iris-versicolor', and 'Iris-virginica'\n",
    "species_list = ['Iris-setosa', 'Iris-versicolor', 'Iris-virginica']\n",
    "filtered_df = iris_df[iris_df['Species'].isin(species_list)]\n",
    "\n",
    "# Group by 'species' and calculate basic statistical details\n",
    "species_details = filtered_df.groupby('Species').agg(['mean', 'median', 'min', 'max', 'std'])\n",
    "\n",
    "print(species_details)\n"
   ]
  }
 ],
 "metadata": {
  "kernelspec": {
   "display_name": "Python 3",
   "language": "python",
   "name": "python3"
  },
  "language_info": {
   "codemirror_mode": {
    "name": "ipython",
    "version": 3
   },
   "file_extension": ".py",
   "mimetype": "text/x-python",
   "name": "python",
   "nbconvert_exporter": "python",
   "pygments_lexer": "ipython3",
   "version": "3.11.0"
  }
 },
 "nbformat": 4,
 "nbformat_minor": 2
}
